{
  "nbformat": 4,
  "nbformat_minor": 0,
  "metadata": {
    "colab": {
      "provenance": [],
      "gpuType": "T4",
      "authorship_tag": "ABX9TyPPfspTDAzdDfHMJucUTliv",
      "include_colab_link": true
    },
    "kernelspec": {
      "name": "python3",
      "display_name": "Python 3"
    },
    "language_info": {
      "name": "python"
    }
  },
  "cells": [
    {
      "cell_type": "markdown",
      "metadata": {
        "id": "view-in-github",
        "colab_type": "text"
      },
      "source": [
        "<a href=\"https://colab.research.google.com/github/tinahllo/colab/blob/main/myfirstcolabbook.ipynb\" target=\"_parent\"><img src=\"https://colab.research.google.com/assets/colab-badge.svg\" alt=\"Open In Colab\"/></a>"
      ]
    },
    {
      "cell_type": "code",
      "execution_count": null,
      "metadata": {
        "colab": {
          "base_uri": "https://localhost:8080/"
        },
        "id": "cv1M33P0l1kR",
        "outputId": "6b393ce9-99ca-426d-f39a-cf12ebe7d079"
      },
      "outputs": [
        {
          "output_type": "stream",
          "name": "stdout",
          "text": [
            "17280\n"
          ]
        }
      ],
      "source": [
        "seconds_in_a_day=60*24*12\n",
        "print(seconds_in_a_day)"
      ]
    },
    {
      "cell_type": "code",
      "source": [
        "seconds_in_a_week=7*seconds_in_a_day\n",
        "print(seconds_in_a_week)\n",
        "\n"
      ],
      "metadata": {
        "colab": {
          "base_uri": "https://localhost:8080/"
        },
        "id": "76t2J30kMeda",
        "outputId": "9fca2d23-09e6-4eb7-b05c-aae33a8db961"
      },
      "execution_count": null,
      "outputs": [
        {
          "output_type": "stream",
          "name": "stdout",
          "text": [
            "120960\n"
          ]
        }
      ]
    }
  ]
}